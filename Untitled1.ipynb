{
 "cells": [
  {
   "cell_type": "code",
   "execution_count": 1,
   "id": "e0930355-abb3-415d-a5a0-2849f6d13bfb",
   "metadata": {},
   "outputs": [
    {
     "ename": "NameError",
     "evalue": "name 'StringIO' is not defined",
     "output_type": "error",
     "traceback": [
      "\u001b[1;31m---------------------------------------------------------------------------\u001b[0m",
      "\u001b[1;31mNameError\u001b[0m                                 Traceback (most recent call last)",
      "Cell \u001b[1;32mIn[1], line 59\u001b[0m\n\u001b[0;32m     57\u001b[0m \u001b[38;5;66;03m# Main execution\u001b[39;00m\n\u001b[0;32m     58\u001b[0m \u001b[38;5;28;01mif\u001b[39;00m \u001b[38;5;18m__name__\u001b[39m \u001b[38;5;241m==\u001b[39m \u001b[38;5;124m\"\u001b[39m\u001b[38;5;124m__main__\u001b[39m\u001b[38;5;124m\"\u001b[39m:\n\u001b[1;32m---> 59\u001b[0m     model, predictions \u001b[38;5;241m=\u001b[39m \u001b[43mtrain_classifier\u001b[49m\u001b[43m(\u001b[49m\u001b[43m)\u001b[49m\n\u001b[0;32m     61\u001b[0m     \u001b[38;5;66;03m# Print performance metrics\u001b[39;00m\n\u001b[0;32m     62\u001b[0m     \u001b[38;5;28mprint\u001b[39m(\u001b[38;5;124m\"\u001b[39m\u001b[38;5;130;01m\\n\u001b[39;00m\u001b[38;5;124mModel Performance:\u001b[39m\u001b[38;5;124m\"\u001b[39m)\n",
      "Cell \u001b[1;32mIn[1], line 32\u001b[0m, in \u001b[0;36mtrain_classifier\u001b[1;34m()\u001b[0m\n\u001b[0;32m     30\u001b[0m \u001b[38;5;28;01mdef\u001b[39;00m \u001b[38;5;21mtrain_classifier\u001b[39m():\n\u001b[0;32m     31\u001b[0m     \u001b[38;5;66;03m# Get and prepare data\u001b[39;00m\n\u001b[1;32m---> 32\u001b[0m     df \u001b[38;5;241m=\u001b[39m \u001b[43mget_dataframe\u001b[49m\u001b[43m(\u001b[49m\u001b[43m)\u001b[49m\n\u001b[0;32m     33\u001b[0m     df \u001b[38;5;241m=\u001b[39m prepare_features(df)\n\u001b[0;32m     35\u001b[0m     \u001b[38;5;66;03m# Setup PyCaret\u001b[39;00m\n",
      "Cell \u001b[1;32mIn[1], line 11\u001b[0m, in \u001b[0;36mget_dataframe\u001b[1;34m()\u001b[0m\n\u001b[0;32m      5\u001b[0m \u001b[38;5;28;01mdef\u001b[39;00m \u001b[38;5;21mget_dataframe\u001b[39m():\n\u001b[0;32m      6\u001b[0m     data \u001b[38;5;241m=\u001b[39m \u001b[38;5;124m'''\u001b[39m\u001b[38;5;124mTime of accident,Type of accident,Vehicular involvement,Death,Injury,Cause of accident,Location of Accidents\u001b[39m\n\u001b[0;32m      7\u001b[0m \u001b[38;5;124m9:00 AM,Head-on collision,CNG- covered van,1,1,Recklessly Driving,\u001b[39m\u001b[38;5;124m\"\u001b[39m\u001b[38;5;124mSanthia, Pabna\u001b[39m\u001b[38;5;124m\"\u001b[39m\n\u001b[0;32m      8\u001b[0m \u001b[38;5;124m6:30 AM,Head-on collision,Votvoti-pickup van,2,0,Recklessly Driving,\u001b[39m\u001b[38;5;124m\"\u001b[39m\u001b[38;5;124mVitapara,Santhia Pabna\u001b[39m\u001b[38;5;124m\"\u001b[39m\n\u001b[0;32m      9\u001b[0m \u001b[38;5;124m# ... rest of your data ...\u001b[39m\u001b[38;5;124m'''\u001b[39m\n\u001b[1;32m---> 11\u001b[0m     df \u001b[38;5;241m=\u001b[39m pd\u001b[38;5;241m.\u001b[39mread_csv(\u001b[43mStringIO\u001b[49m(data))\n\u001b[0;32m     12\u001b[0m     \u001b[38;5;28;01mreturn\u001b[39;00m df\n",
      "\u001b[1;31mNameError\u001b[0m: name 'StringIO' is not defined"
     ]
    }
   ],
   "source": [
    "import pandas as pd\n",
    "from pycaret.classification import *\n",
    "\n",
    "# Convert document content to DataFrame\n",
    "def get_dataframe():\n",
    "    data = '''Time of accident,Type of accident,Vehicular involvement,Death,Injury,Cause of accident,Location of Accidents\n",
    "9:00 AM,Head-on collision,CNG- covered van,1,1,Recklessly Driving,\"Santhia, Pabna\"\n",
    "6:30 AM,Head-on collision,Votvoti-pickup van,2,0,Recklessly Driving,\"Vitapara,Santhia Pabna\"\n",
    "# ... rest of your data ...'''\n",
    "    \n",
    "    df = pd.read_csv(StringIO(data))\n",
    "    return df\n",
    "\n",
    "# Prepare features\n",
    "def prepare_features(df):\n",
    "    # Extract hour from time\n",
    "    df['Hour'] = pd.to_datetime(df['Time of accident'], format='%I:%M %p', errors='coerce').dt.hour\n",
    "    \n",
    "    # Create time categories\n",
    "    df['Time_Category'] = pd.cut(df['Hour'], \n",
    "                                bins=[0, 6, 12, 18, 24], \n",
    "                                labels=['Night', 'Morning', 'Afternoon', 'Evening'])\n",
    "    \n",
    "    # Calculate severity\n",
    "    df['Severity'] = df['Death'] * 2 + df['Injury']\n",
    "    \n",
    "    return df\n",
    "\n",
    "# Train models\n",
    "def train_classifier():\n",
    "    # Get and prepare data\n",
    "    df = get_dataframe()\n",
    "    df = prepare_features(df)\n",
    "    \n",
    "    # Setup PyCaret\n",
    "    clf = setup(data=df,\n",
    "                target='Cause of accident',\n",
    "                numeric_features=['Hour', 'Death', 'Injury', 'Severity'],\n",
    "                categorical_features=['Type of accident', 'Vehicular involvement', 'Time_Category'],\n",
    "                silent=True,\n",
    "                session_id=123)\n",
    "    \n",
    "    # Compare and select best model\n",
    "    best_model = compare_models(n_select=1)\n",
    "    \n",
    "    # Tune the model\n",
    "    tuned_model = tune_model(best_model)\n",
    "    \n",
    "    # Generate predictions\n",
    "    predictions = predict_model(tuned_model)\n",
    "    \n",
    "    # Plot feature importance\n",
    "    plot_model(tuned_model, plot='feature')\n",
    "    \n",
    "    return tuned_model, predictions\n",
    "\n",
    "# Main execution\n",
    "if __name__ == \"__main__\":\n",
    "    model, predictions = train_classifier()\n",
    "    \n",
    "    # Print performance metrics\n",
    "    print(\"\\nModel Performance:\")\n",
    "    print(pull())"
   ]
  },
  {
   "cell_type": "code",
   "execution_count": 2,
   "id": "c345a752-e5e8-43cd-b0cb-ff9003aade2a",
   "metadata": {},
   "outputs": [
    {
     "name": "stdout",
     "output_type": "stream",
     "text": [
      "              Time of accident   Type of accident Vehicular involvement  \\\n",
      "0                      9:00 AM  Head-on collision      CNG- covered van   \n",
      "1                      6:30 AM  Head-on collision    Votvoti-pickup van   \n",
      "2  # ... rest of your data ...                NaN                   NaN   \n",
      "\n",
      "   Death  Injury   Cause of accident   Location of Accidents  \n",
      "0    1.0     1.0  Recklessly Driving          Santhia, Pabna  \n",
      "1    2.0     0.0  Recklessly Driving  Vitapara,Santhia Pabna  \n",
      "2    NaN     NaN                 NaN                     NaN  \n"
     ]
    }
   ],
   "source": [
    "import pandas as pd\n",
    "from io import StringIO\n",
    "\n",
    "# Your data as a string\n",
    "data = '''Time of accident,Type of accident,Vehicular involvement,Death,Injury,Cause of accident,Location of Accidents\n",
    "9:00 AM,Head-on collision,CNG- covered van,1,1,Recklessly Driving,\"Santhia, Pabna\"\n",
    "6:30 AM,Head-on collision,Votvoti-pickup van,2,0,Recklessly Driving,\"Vitapara,Santhia Pabna\"\n",
    "# ... rest of your data ...'''\n",
    "\n",
    "def get_dataframe():\n",
    "    # Read the data from the string using StringIO\n",
    "    df = pd.read_csv(StringIO(data))\n",
    "    return df\n",
    "\n",
    "def prepare_features(df):\n",
    "    # Your feature preparation logic here\n",
    "    return df\n",
    "\n",
    "def train_classifier():\n",
    "    # Get and prepare data\n",
    "    df = get_dataframe()\n",
    "    df = prepare_features(df)\n",
    "    \n",
    "    # Setup PyCaret or your classifier model\n",
    "    # model, predictions = <PyCaret or classifier setup here>\n",
    "    return df  # or return model and predictions\n",
    "\n",
    "# Main execution\n",
    "if __name__ == \"__main__\":\n",
    "    df = train_classifier()\n",
    "    print(df)  # Or whatever you want to do with the DataFrame\n"
   ]
  },
  {
   "cell_type": "code",
   "execution_count": null,
   "id": "b040f1c9-4c38-49f4-a0b1-0e3bb7c7087a",
   "metadata": {},
   "outputs": [],
   "source": []
  }
 ],
 "metadata": {
  "kernelspec": {
   "display_name": "Python 3 (ipykernel)",
   "language": "python",
   "name": "python3"
  },
  "language_info": {
   "codemirror_mode": {
    "name": "ipython",
    "version": 3
   },
   "file_extension": ".py",
   "mimetype": "text/x-python",
   "name": "python",
   "nbconvert_exporter": "python",
   "pygments_lexer": "ipython3",
   "version": "3.11.5"
  }
 },
 "nbformat": 4,
 "nbformat_minor": 5
}
